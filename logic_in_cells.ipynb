{
 "cells": [
  {
   "cell_type": "code",
   "execution_count": 61,
   "metadata": {},
   "outputs": [],
   "source": [
    "import json\n",
    "import random \n",
    "import time\n",
    "from selenium.webdriver import Chrome\n",
    "from selenium.webdriver.support import expected_conditions as exp\n",
    "from selenium.webdriver.support.ui import WebDriverWait\n",
    "from selenium.webdriver.support.wait import TimeoutException\n",
    "from selenium.webdriver.common.by import By\n",
    "from selenium.webdriver.common.keys import Keys\n",
    "from selenium.webdriver.common.action_chains import ActionChains"
   ]
  },
  {
   "cell_type": "code",
   "execution_count": 71,
   "metadata": {},
   "outputs": [],
   "source": [
    "# Creds for differentiate log-ins to avoid ban\n",
    "with open('credentials.json', 'r') as f:\n",
    "    CREDENTIALS = json.load(f)"
   ]
  },
  {
   "cell_type": "code",
   "execution_count": 63,
   "metadata": {},
   "outputs": [
    {
     "name": "stderr",
     "output_type": "stream",
     "text": [
      "C:\\Users\\matacza\\AppData\\Local\\Temp\\ipykernel_16876\\1998452461.py:3: DeprecationWarning: executable_path has been deprecated, please pass in a Service object\n",
      "  driver = Chrome(executable_path=driverpath)\n"
     ]
    }
   ],
   "source": [
    "# Connect to website\n",
    "driverpath = \"./Driver/chromedriver.exe\"\n",
    "driver = Chrome(executable_path=driverpath)\n",
    "driver.get(\"https://instagram.com\")"
   ]
  },
  {
   "cell_type": "code",
   "execution_count": 64,
   "metadata": {},
   "outputs": [
    {
     "name": "stdout",
     "output_type": "stream",
     "text": [
      "[+] Logged .... \n"
     ]
    }
   ],
   "source": [
    "# Allow cookies, choosing and input credentials, respond to pop-ups (save the password and notification)\n",
    "\n",
    "# TO VERIFY IF TWO LINES BELOW ARE IN USE\n",
    "# navbar = \"//*[@id='mount_0_0_1P']/div/div/div/div[1]/div/div/div/div[1]/section/nav/div[2]/div/div\"\n",
    "# cookies_click = \"//*[@id='mount_0_0_KT']/div/div/div/div[2]/div/div/div[1]/div/div[2]/div/div/div/div/div[2]/div/button[1]\"\n",
    "\n",
    "allow_cookies = WebDriverWait(driver, 10).until(exp.element_to_be_clickable((By.XPATH, \"//button[text()='Only allow essential cookies']\"))).click()\n",
    "time.sleep(3)\n",
    "\n",
    "choosing_creds = 0\n",
    "#choosing_creds = random.randint(0, len(CREDENTIALS))\n",
    "input_username = driver.find_element(By.NAME, \"username\")\n",
    "input_username.send_keys(list(CREDENTIALS.keys())[choosing_creds])\n",
    "input_password = driver.find_element(By.NAME, \"password\")\n",
    "input_password.send_keys(list(CREDENTIALS.values())[choosing_creds])\n",
    "time.sleep(2)\n",
    "log_in_click = driver.find_element(By.XPATH, \"//*[@id='loginForm']/div/div[3]\").click()\n",
    "\n",
    "save_password = WebDriverWait(driver, 10).until(exp.element_to_be_clickable((By.XPATH, \"//button[text()='Not Now']\"))).click()\n",
    "notification_off = WebDriverWait(driver, 10).until(exp.element_to_be_clickable((By.XPATH, \"//button[text()='Not Now']\"))).click()\n",
    "\n",
    "print(\"[+] Logged .... \")"
   ]
  },
  {
   "cell_type": "code",
   "execution_count": 65,
   "metadata": {},
   "outputs": [
    {
     "name": "stdout",
     "output_type": "stream",
     "text": [
      "[+] Posts found ....\n"
     ]
    }
   ],
   "source": [
    "# Choosing tag and searching related posts\n",
    "\n",
    "with open(\"tags.txt\", 'r') as f:\n",
    "    tags = [line.strip() for line in f]\n",
    "\n",
    "tag = random.choice(tags)\n",
    "\n",
    "\n",
    "searchbox = driver.find_element(By.CSS_SELECTOR, \"input[placeholder='Search']\")\n",
    "searchbox.clear()\n",
    "searchbox.send_keys(tag)\n",
    "time.sleep(5)\n",
    "searchbox.send_keys(Keys.ENTER)\n",
    "time.sleep(4)\n",
    "searchbox.send_keys(Keys.ENTER)\n",
    "time.sleep(3)\n",
    "print(\"[+] Posts found ....\")\n",
    "time.sleep(4)"
   ]
  },
  {
   "cell_type": "code",
   "execution_count": 66,
   "metadata": {},
   "outputs": [
    {
     "name": "stdout",
     "output_type": "stream",
     "text": [
      "[+] Links saved ....\n",
      "['https://www.instagram.com/p/CkGtzilMz0U/']\n"
     ]
    }
   ],
   "source": [
    "# Extracting post links and saving it in a list\n",
    "hashtag_photos = driver.find_elements(By.XPATH, \"//a[@class='x1i10hfl xjbqb8w x6umtig x1b1mbwd xaqea5y xav7gou x9f619 x1ypdohk xt0psk2 xe8uvvx xdj266r x11i5rnm xat24cr x1mh8g0r xexx8yu x4uap5 x18d9i69 xkhd6sd x16tdsg8 x1hl2dhg xggy1nq x1a2a7pz _a6hd']\")\n",
    "for img in hashtag_photos[0:2]:\n",
    "    new_photos_links = []\n",
    "    new_photos_links.append(img.get_attribute('href'))\n",
    "\n",
    "print(\"[+] Links saved ....\")\n",
    "print(new_photos_links)"
   ]
  },
  {
   "cell_type": "code",
   "execution_count": 67,
   "metadata": {},
   "outputs": [],
   "source": [
    "# Get link to profile and go for it\n",
    "for link in new_photos_links:\n",
    "    driver.get(link)\n",
    "    nick = WebDriverWait(driver, 10).until(exp.element_to_be_clickable((By.XPATH, '//a[@class=\"x1i10hfl xjbqb8w x6umtig x1b1mbwd xaqea5y xav7gou x9f619 x1ypdohk xt0psk2 xe8uvvx xdj266r x11i5rnm xat24cr x1mh8g0r xexx8yu x4uap5 x18d9i69 xkhd6sd x16tdsg8 x1hl2dhg xggy1nq x1a2a7pz _acan _acao _acat _acaw _a6hd\"]')))\n",
    "    profile = nick.get_attribute('href')\n",
    "    driver.get(profile)"
   ]
  },
  {
   "cell_type": "code",
   "execution_count": 68,
   "metadata": {},
   "outputs": [],
   "source": [
    "# like each photo"
   ]
  },
  {
   "cell_type": "code",
   "execution_count": 69,
   "metadata": {},
   "outputs": [],
   "source": [
    "# follow user\n",
    "#follow_button = driver.find_element(By.XPATH, \"//button[text()='Follow']\").click()"
   ]
  },
  {
   "cell_type": "code",
   "execution_count": 70,
   "metadata": {},
   "outputs": [],
   "source": [
    "        # section = [sec.find_element(By.TAG_NAME, \"section\") for sec in article]\n",
    "        # button = [btn.find_element(By.TAG_NAME, \"button\") for btn in section]\n",
    "\n",
    "\n",
    "        # for btn in button:\n",
    "        #     label = btn.find_element(By.TAG_NAME, \"svg\").get_attribute('aria-label')\n",
    "        #     if label != 'Like':\n",
    "        #         print(\"[+] Already liked ....\")\n",
    "        #     time.sleep(randint(1,5))\n",
    "        #     btn.click()\n",
    "        #     print(\"[+] Like On Post ....\")\n",
    "        #     time.sleep(randint(1,5))\n",
    "        # # self.driver.refresh()"
   ]
  },
  {
   "cell_type": "code",
   "execution_count": null,
   "metadata": {},
   "outputs": [],
   "source": []
  }
 ],
 "metadata": {
  "kernelspec": {
   "display_name": "Python 3.10.8 ('env': venv)",
   "language": "python",
   "name": "python3"
  },
  "language_info": {
   "codemirror_mode": {
    "name": "ipython",
    "version": 3
   },
   "file_extension": ".py",
   "mimetype": "text/x-python",
   "name": "python",
   "nbconvert_exporter": "python",
   "pygments_lexer": "ipython3",
   "version": "3.10.8"
  },
  "orig_nbformat": 4,
  "vscode": {
   "interpreter": {
    "hash": "cd4ae2de5005ffaf0fe87f07472167e65545ec9085ee1266dcb193d163275b35"
   }
  }
 },
 "nbformat": 4,
 "nbformat_minor": 2
}
